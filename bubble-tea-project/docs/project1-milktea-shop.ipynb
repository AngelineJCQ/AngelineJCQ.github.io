{
 "cells": [
  {
   "cell_type": "code",
   "execution_count": 206,
   "id": "c9f53fb5",
   "metadata": {},
   "outputs": [],
   "source": [
    "from selenium import webdriver\n",
    "from selenium.webdriver.common.by import By\n",
    "from selenium.webdriver.support.ui import Select\n",
    "from selenium.webdriver.support.ui import WebDriverWait\n",
    "from selenium.webdriver.support import expected_conditions as EC\n",
    "from bs4 import BeautifulSoup\n",
    "import requests\n",
    "\n",
    "from webdriver_manager.chrome import ChromeDriverManager\n",
    "\n",
    "import pandas as pd\n",
    "import os, glob\n",
    "\n",
    "from plotnine import *\n",
    "from sklearn.feature_extraction.text import CountVectorizer"
   ]
  },
  {
   "cell_type": "markdown",
   "id": "5fdc82a6",
   "metadata": {},
   "source": [
    "## Step1: scrape the five tea shops that I visited in NYC"
   ]
  },
  {
   "cell_type": "markdown",
   "id": "08a5e18e",
   "metadata": {},
   "source": [
    "### Method 1.1 save five csvs and merge them together"
   ]
  },
  {
   "cell_type": "code",
   "execution_count": null,
   "id": "b1ae2f6f",
   "metadata": {},
   "outputs": [],
   "source": [
    "driver = webdriver.Chrome(ChromeDriverManager().install())\n",
    "driver.get('https://www.yelp.com/menu/yi-fang-taiwan-fruit-tea-flushing')\n",
    "menu_item = [item.text for item in driver.find_elements(By.TAG_NAME,'h4')]\n",
    "menu_price = [price.text for price in driver.find_elements(By.CLASS_NAME,'menu-item-price-amount')]\n",
    "df = pd.DataFrame(list(zip(menu_item, menu_price)), columns =['item', 'price']) \n",
    "df['name'] = 'YiFang'\n",
    "df.to_csv('yifang.csv',index=False)"
   ]
  },
  {
   "cell_type": "code",
   "execution_count": null,
   "id": "58870e3f",
   "metadata": {},
   "outputs": [],
   "source": [
    "driver = webdriver.Chrome(ChromeDriverManager().install())\n",
    "driver.get('https://www.yelp.com/menu/i-milky-%E6%B2%90%E7%99%BD-new-york-3')\n",
    "menu_item = [item.text for item in driver.find_elements(By.TAG_NAME,'h4')]\n",
    "menu_price = [price.text for price in driver.find_elements(By.CLASS_NAME,'menu-item-price-amount')]\n",
    "df = pd.DataFrame(list(zip(menu_item, menu_price)), columns =['item', 'price']) \n",
    "df['name'] = 'IMilky'\n",
    "df.to_csv('imilky.csv',index=False)"
   ]
  },
  {
   "cell_type": "code",
   "execution_count": null,
   "id": "0b63b1a8",
   "metadata": {},
   "outputs": [],
   "source": [
    "driver = webdriver.Chrome(ChromeDriverManager().install())\n",
    "driver.get('https://www.yelp.com/menu/gong-cha-new-york-25')\n",
    "menu_item = [item.text for item in driver.find_elements(By.TAG_NAME,'h4')]\n",
    "menu_price = [price.text for price in driver.find_elements(By.CLASS_NAME,'menu-item-price-amount')]\n",
    "df = pd.DataFrame(list(zip(menu_item, menu_price)), columns =['item', 'price']) \n",
    "df['name'] = 'GongCha'\n",
    "df.to_csv('gongcha.csv',index=False)"
   ]
  },
  {
   "cell_type": "code",
   "execution_count": null,
   "id": "26e0c1c0",
   "metadata": {},
   "outputs": [],
   "source": [
    "driver = webdriver.Chrome(ChromeDriverManager().install())\n",
    "driver.get('https://www.yelp.com/menu/xing-fu-tang-new-york')\n",
    "menu_item = [item.text for item in driver.find_elements(By.TAG_NAME,'h4')]\n",
    "menu_price = [price.text for price in driver.find_elements(By.CLASS_NAME,'menu-item-price-amount')]\n",
    "df = pd.DataFrame(list(zip(menu_item, menu_price)), columns =['item', 'price']) \n",
    "df['name'] = 'XingFuTang'\n",
    "df.to_csv('xingfutang.csv',index=False)"
   ]
  },
  {
   "cell_type": "code",
   "execution_count": null,
   "id": "2763d03d",
   "metadata": {},
   "outputs": [],
   "source": [
    "driver = webdriver.Chrome(ChromeDriverManager().install())\n",
    "driver.get('https://www.yelp.com/menu/shiny-tea-new-york')\n",
    "menu_item = [item.text for item in driver.find_elements(By.TAG_NAME,'h4')]\n",
    "menu_price = [price.text for price in driver.find_elements(By.CLASS_NAME,'menu-item-price-amount')]\n",
    "df = pd.DataFrame(list(zip(menu_item, menu_price)), columns =['item', 'price']) \n",
    "df['name'] = 'ShinyTea'\n",
    "df.to_csv('shinytea.csv',index=False)"
   ]
  },
  {
   "cell_type": "markdown",
   "id": "d58a3da8",
   "metadata": {},
   "source": [
    "#### Yes, this is a very stupid method. But since I have to keep my project move on, I just did that and merge all five together :)"
   ]
  },
  {
   "cell_type": "code",
   "execution_count": null,
   "id": "29a3b760",
   "metadata": {},
   "outputs": [],
   "source": [
    "path = \"/Users/angeline_jcq/Desktop/ColumbiaJ/Spring/Studio/menu_newyork\"\n",
    "all_files = glob.glob(os.path.join(path, \"*.csv\"))\n",
    "df_from_each_file = (pd.read_csv(f, sep=',') for f in all_files)\n",
    "df_merged   = pd.concat(df_from_each_file, ignore_index=True)\n",
    "df_merged.to_csv(\"bubble-tea-us.csv\",index=False)"
   ]
  },
  {
   "cell_type": "markdown",
   "id": "374464d1",
   "metadata": {},
   "source": [
    "### Method 1.2: using for-loop to scrape all at once"
   ]
  },
  {
   "cell_type": "markdown",
   "id": "f70c921f",
   "metadata": {},
   "source": [
    "#### Now I am succussful using for-loop to save energy!"
   ]
  },
  {
   "cell_type": "code",
   "execution_count": null,
   "id": "7ce6f638",
   "metadata": {},
   "outputs": [],
   "source": [
    "menu_list = [{'brand':'ShinyTea','link':'https://www.yelp.com/menu/shiny-tea-new-york'}, \n",
    "             {'brand':'XingFuTang','link':'https://www.yelp.com/menu/xing-fu-tang-new-york'},\n",
    "             {'brand':'YiFang','link':'https://www.yelp.com/menu/yi-fang-taiwan-fruit-tea-flushing'},\n",
    "             {'brand':'IMilky','link':'https://www.yelp.com/menu/i-milky-%E6%B2%90%E7%99%BD-new-york-3'},\n",
    "             {'brand':'GongCha','link':'https://www.yelp.com/menu/gong-cha-new-york-25'}]"
   ]
  },
  {
   "cell_type": "code",
   "execution_count": null,
   "id": "911244ac",
   "metadata": {},
   "outputs": [],
   "source": [
    "menu_all = []\n",
    "driver = webdriver.Chrome(ChromeDriverManager().install())\n",
    "for menu in menu_list:\n",
    "    driver.get(menu['link'])\n",
    "    soup_doc = BeautifulSoup(driver.page_source)   \n",
    "    items = soup_doc.find_all(class_=\"menu-item\")\n",
    "    for item in items:\n",
    "        one_item = {}\n",
    "        try:\n",
    "            one_item['item'] = item.find('h4').get_text(strip=True)\n",
    "        except:\n",
    "            print(\"No name\")\n",
    "        try:\n",
    "            one_item['price'] = item.find(class_='menu-item-price-amount').get_text(strip=True)\n",
    "        except:\n",
    "            print(\"No price\")\n",
    "        one_item['name'] = menu['brand']\n",
    "        menu_all.append(one_item)\n",
    "\n",
    "driver.close()\n",
    "menu_all"
   ]
  },
  {
   "cell_type": "markdown",
   "id": "d24c908b",
   "metadata": {},
   "source": [
    "## Step 2: get a clear dataframe"
   ]
  },
  {
   "cell_type": "code",
   "execution_count": 57,
   "id": "72dbdec1",
   "metadata": {},
   "outputs": [],
   "source": [
    "df_cn = pd.read_excel(\"bubble-tea-cn.xlsx\")\n",
    "df_us = pd.read_csv(\"bubble-tea-us.csv\")"
   ]
  },
  {
   "cell_type": "code",
   "execution_count": 236,
   "id": "e995fcd7",
   "metadata": {},
   "outputs": [
    {
     "data": {
      "text/plain": [
       "(144, 8)"
      ]
     },
     "execution_count": 236,
     "metadata": {},
     "output_type": "execute_result"
    }
   ],
   "source": [
    "df_cn.shape"
   ]
  },
  {
   "cell_type": "code",
   "execution_count": 237,
   "id": "a8199ae2",
   "metadata": {},
   "outputs": [
    {
     "data": {
      "text/plain": [
       "(292, 8)"
      ]
     },
     "execution_count": 237,
     "metadata": {},
     "output_type": "execute_result"
    }
   ],
   "source": [
    "df_us.shape"
   ]
  },
  {
   "cell_type": "markdown",
   "id": "ca590787",
   "metadata": {},
   "source": [
    "### 2.1 Clean the Chinese bubble tea dataset"
   ]
  },
  {
   "cell_type": "code",
   "execution_count": 58,
   "id": "3189a369",
   "metadata": {},
   "outputs": [],
   "source": [
    "df_cn['item']=df_cn['item-en']\n",
    "# fill all drinks that don't have large size with the median price\n",
    "df_cn['price(L)']=df_cn['price(L)'].fillna(df_cn['price(M)'])\n",
    "# get the final price ($1 = ￥6.4)\n",
    "df_cn['price']=(df_cn['price(M)']+df_cn['price(L)'])/2/6.4\n",
    "df_cn['price'] = df_cn['price'].astype(float).round(2)\n",
    "# get rid of some columns\n",
    "df_cn.drop(columns=['item-cn', 'item-en','price(M)','price(L)'],inplace=True)"
   ]
  },
  {
   "cell_type": "markdown",
   "id": "ca02da7b",
   "metadata": {},
   "source": [
    "### 2.2 Clean the US bubble tea dataset"
   ]
  },
  {
   "cell_type": "code",
   "execution_count": 59,
   "id": "b70acf51",
   "metadata": {},
   "outputs": [
    {
     "name": "stderr",
     "output_type": "stream",
     "text": [
      "/var/folders/9m/w7ffkstj051dnyjnyklwvwmr0000gn/T/ipykernel_92168/2118947250.py:1: FutureWarning: The default value of regex will change from True to False in a future version. In addition, single character regular expressions will *not* be treated as literal strings when regex=True.\n",
      "  df_us.price = df_us.price.str.replace(\"$\",\"\").astype(float).round(2)\n"
     ]
    }
   ],
   "source": [
    "df_us.price = df_us.price.str.replace(\"$\",\"\").astype(float).round(2)\n",
    "df_us['country']='US'"
   ]
  },
  {
   "cell_type": "code",
   "execution_count": 60,
   "id": "0899e8f9",
   "metadata": {},
   "outputs": [
    {
     "data": {
      "text/html": [
       "<div>\n",
       "<style scoped>\n",
       "    .dataframe tbody tr th:only-of-type {\n",
       "        vertical-align: middle;\n",
       "    }\n",
       "\n",
       "    .dataframe tbody tr th {\n",
       "        vertical-align: top;\n",
       "    }\n",
       "\n",
       "    .dataframe thead th {\n",
       "        text-align: right;\n",
       "    }\n",
       "</style>\n",
       "<table border=\"1\" class=\"dataframe\">\n",
       "  <thead>\n",
       "    <tr style=\"text-align: right;\">\n",
       "      <th></th>\n",
       "      <th>name</th>\n",
       "      <th>base-drink</th>\n",
       "      <th>topping</th>\n",
       "      <th>fruit</th>\n",
       "      <th>type</th>\n",
       "      <th>country</th>\n",
       "      <th>item</th>\n",
       "      <th>price</th>\n",
       "    </tr>\n",
       "  </thead>\n",
       "  <tbody>\n",
       "    <tr>\n",
       "      <th>0</th>\n",
       "      <td>HeyTea</td>\n",
       "      <td>green tea</td>\n",
       "      <td>cheese foam</td>\n",
       "      <td>NaN</td>\n",
       "      <td>cheese tea</td>\n",
       "      <td>China</td>\n",
       "      <td>cheezo/light cheezo aqua green</td>\n",
       "      <td>2.19</td>\n",
       "    </tr>\n",
       "    <tr>\n",
       "      <th>1</th>\n",
       "      <td>HeyTea</td>\n",
       "      <td>green tea</td>\n",
       "      <td>NaN</td>\n",
       "      <td>NaN</td>\n",
       "      <td>tea</td>\n",
       "      <td>China</td>\n",
       "      <td>aqua green</td>\n",
       "      <td>1.41</td>\n",
       "    </tr>\n",
       "    <tr>\n",
       "      <th>2</th>\n",
       "      <td>HeyTea</td>\n",
       "      <td>milk; green tea</td>\n",
       "      <td>NaN</td>\n",
       "      <td>NaN</td>\n",
       "      <td>milk tea</td>\n",
       "      <td>China</td>\n",
       "      <td>aqua green milk tea</td>\n",
       "      <td>2.03</td>\n",
       "    </tr>\n",
       "    <tr>\n",
       "      <th>3</th>\n",
       "      <td>HeyTea</td>\n",
       "      <td>oolong tea</td>\n",
       "      <td>cheese foam</td>\n",
       "      <td>NaN</td>\n",
       "      <td>cheese tea</td>\n",
       "      <td>China</td>\n",
       "      <td>king fone cheese tea</td>\n",
       "      <td>2.81</td>\n",
       "    </tr>\n",
       "    <tr>\n",
       "      <th>4</th>\n",
       "      <td>HeyTea</td>\n",
       "      <td>oolong tea</td>\n",
       "      <td>NaN</td>\n",
       "      <td>NaN</td>\n",
       "      <td>tea</td>\n",
       "      <td>China</td>\n",
       "      <td>king fone</td>\n",
       "      <td>2.03</td>\n",
       "    </tr>\n",
       "    <tr>\n",
       "      <th>...</th>\n",
       "      <td>...</td>\n",
       "      <td>...</td>\n",
       "      <td>...</td>\n",
       "      <td>...</td>\n",
       "      <td>...</td>\n",
       "      <td>...</td>\n",
       "      <td>...</td>\n",
       "      <td>...</td>\n",
       "    </tr>\n",
       "    <tr>\n",
       "      <th>287</th>\n",
       "      <td>IMilky</td>\n",
       "      <td>coffee;milk</td>\n",
       "      <td>bubble;brown sugar</td>\n",
       "      <td>NaN</td>\n",
       "      <td>milk</td>\n",
       "      <td>US</td>\n",
       "      <td>Brown Sugar Bubble Coffee Milk (M)</td>\n",
       "      <td>7.74</td>\n",
       "    </tr>\n",
       "    <tr>\n",
       "      <th>288</th>\n",
       "      <td>IMilky</td>\n",
       "      <td>milk;coffee</td>\n",
       "      <td>brown sugar</td>\n",
       "      <td>NaN</td>\n",
       "      <td>coffee</td>\n",
       "      <td>US</td>\n",
       "      <td>Brown Sugar Coffee Latte (M)</td>\n",
       "      <td>7.14</td>\n",
       "    </tr>\n",
       "    <tr>\n",
       "      <th>289</th>\n",
       "      <td>IMilky</td>\n",
       "      <td>milk;coffee</td>\n",
       "      <td>caramel</td>\n",
       "      <td>NaN</td>\n",
       "      <td>coffee</td>\n",
       "      <td>US</td>\n",
       "      <td>Caramel Macchiato (M)</td>\n",
       "      <td>7.14</td>\n",
       "    </tr>\n",
       "    <tr>\n",
       "      <th>290</th>\n",
       "      <td>IMilky</td>\n",
       "      <td>milk;coffee</td>\n",
       "      <td>NaN</td>\n",
       "      <td>NaN</td>\n",
       "      <td>coffee</td>\n",
       "      <td>US</td>\n",
       "      <td>Coffee Latte (M)</td>\n",
       "      <td>6.60</td>\n",
       "    </tr>\n",
       "    <tr>\n",
       "      <th>291</th>\n",
       "      <td>IMilky</td>\n",
       "      <td>coffee</td>\n",
       "      <td>NaN</td>\n",
       "      <td>NaN</td>\n",
       "      <td>coffee</td>\n",
       "      <td>US</td>\n",
       "      <td>Americano (M)</td>\n",
       "      <td>5.40</td>\n",
       "    </tr>\n",
       "  </tbody>\n",
       "</table>\n",
       "<p>436 rows × 8 columns</p>\n",
       "</div>"
      ],
      "text/plain": [
       "       name       base-drink             topping fruit        type country  \\\n",
       "0    HeyTea        green tea         cheese foam   NaN  cheese tea   China   \n",
       "1    HeyTea        green tea                 NaN   NaN         tea   China   \n",
       "2    HeyTea  milk; green tea                 NaN   NaN    milk tea   China   \n",
       "3    HeyTea       oolong tea         cheese foam   NaN  cheese tea   China   \n",
       "4    HeyTea       oolong tea                 NaN   NaN         tea   China   \n",
       "..      ...              ...                 ...   ...         ...     ...   \n",
       "287  IMilky      coffee;milk  bubble;brown sugar   NaN        milk      US   \n",
       "288  IMilky      milk;coffee         brown sugar   NaN      coffee      US   \n",
       "289  IMilky      milk;coffee             caramel   NaN      coffee      US   \n",
       "290  IMilky      milk;coffee                 NaN   NaN      coffee      US   \n",
       "291  IMilky           coffee                 NaN   NaN      coffee      US   \n",
       "\n",
       "                                   item  price  \n",
       "0        cheezo/light cheezo aqua green   2.19  \n",
       "1                            aqua green   1.41  \n",
       "2                   aqua green milk tea   2.03  \n",
       "3                  king fone cheese tea   2.81  \n",
       "4                             king fone   2.03  \n",
       "..                                  ...    ...  \n",
       "287  Brown Sugar Bubble Coffee Milk (M)   7.74  \n",
       "288        Brown Sugar Coffee Latte (M)   7.14  \n",
       "289               Caramel Macchiato (M)   7.14  \n",
       "290                    Coffee Latte (M)   6.60  \n",
       "291                       Americano (M)   5.40  \n",
       "\n",
       "[436 rows x 8 columns]"
      ]
     },
     "execution_count": 60,
     "metadata": {},
     "output_type": "execute_result"
    }
   ],
   "source": [
    "frames = [df_cn, df_us]\n",
    "result = pd.concat(frames)\n",
    "result"
   ]
  },
  {
   "cell_type": "code",
   "execution_count": 61,
   "id": "db277e4c",
   "metadata": {},
   "outputs": [],
   "source": [
    "result.to_csv(\"bubble-tea-df.csv\",index=False)"
   ]
  },
  {
   "cell_type": "markdown",
   "id": "80a8e591",
   "metadata": {},
   "source": [
    "## Step  3: Analysis and visualizations"
   ]
  },
  {
   "cell_type": "markdown",
   "id": "2c9f2f84",
   "metadata": {},
   "source": [
    "I fix some tiny issues (two drinks' prices are missing because they only have large sizes; and typos) manually. It's not worth to change any code. So I will do read_csv again."
   ]
  },
  {
   "cell_type": "code",
   "execution_count": 207,
   "id": "6c3a1f7d",
   "metadata": {},
   "outputs": [
    {
     "data": {
      "text/html": [
       "<div>\n",
       "<style scoped>\n",
       "    .dataframe tbody tr th:only-of-type {\n",
       "        vertical-align: middle;\n",
       "    }\n",
       "\n",
       "    .dataframe tbody tr th {\n",
       "        vertical-align: top;\n",
       "    }\n",
       "\n",
       "    .dataframe thead th {\n",
       "        text-align: right;\n",
       "    }\n",
       "</style>\n",
       "<table border=\"1\" class=\"dataframe\">\n",
       "  <thead>\n",
       "    <tr style=\"text-align: right;\">\n",
       "      <th></th>\n",
       "      <th>name</th>\n",
       "      <th>base-drink</th>\n",
       "      <th>topping</th>\n",
       "      <th>fruit</th>\n",
       "      <th>type</th>\n",
       "      <th>country</th>\n",
       "      <th>item</th>\n",
       "      <th>price</th>\n",
       "    </tr>\n",
       "  </thead>\n",
       "  <tbody>\n",
       "    <tr>\n",
       "      <th>0</th>\n",
       "      <td>HeyTea</td>\n",
       "      <td>green tea</td>\n",
       "      <td>cheese foam</td>\n",
       "      <td>NaN</td>\n",
       "      <td>cheese tea</td>\n",
       "      <td>China</td>\n",
       "      <td>cheezo/light cheezo aqua green</td>\n",
       "      <td>2.19</td>\n",
       "    </tr>\n",
       "    <tr>\n",
       "      <th>1</th>\n",
       "      <td>HeyTea</td>\n",
       "      <td>green tea</td>\n",
       "      <td>NaN</td>\n",
       "      <td>NaN</td>\n",
       "      <td>tea</td>\n",
       "      <td>China</td>\n",
       "      <td>aqua green</td>\n",
       "      <td>1.41</td>\n",
       "    </tr>\n",
       "    <tr>\n",
       "      <th>2</th>\n",
       "      <td>HeyTea</td>\n",
       "      <td>milk;green tea</td>\n",
       "      <td>NaN</td>\n",
       "      <td>NaN</td>\n",
       "      <td>milk tea</td>\n",
       "      <td>China</td>\n",
       "      <td>aqua green milk tea</td>\n",
       "      <td>2.03</td>\n",
       "    </tr>\n",
       "    <tr>\n",
       "      <th>3</th>\n",
       "      <td>HeyTea</td>\n",
       "      <td>oolong tea</td>\n",
       "      <td>cheese foam</td>\n",
       "      <td>NaN</td>\n",
       "      <td>cheese tea</td>\n",
       "      <td>China</td>\n",
       "      <td>king fone cheese tea</td>\n",
       "      <td>2.81</td>\n",
       "    </tr>\n",
       "    <tr>\n",
       "      <th>4</th>\n",
       "      <td>HeyTea</td>\n",
       "      <td>oolong tea</td>\n",
       "      <td>NaN</td>\n",
       "      <td>NaN</td>\n",
       "      <td>tea</td>\n",
       "      <td>China</td>\n",
       "      <td>king fone</td>\n",
       "      <td>2.03</td>\n",
       "    </tr>\n",
       "  </tbody>\n",
       "</table>\n",
       "</div>"
      ],
      "text/plain": [
       "     name      base-drink      topping fruit        type country  \\\n",
       "0  HeyTea       green tea  cheese foam   NaN  cheese tea   China   \n",
       "1  HeyTea       green tea          NaN   NaN         tea   China   \n",
       "2  HeyTea  milk;green tea          NaN   NaN    milk tea   China   \n",
       "3  HeyTea      oolong tea  cheese foam   NaN  cheese tea   China   \n",
       "4  HeyTea      oolong tea          NaN   NaN         tea   China   \n",
       "\n",
       "                             item  price  \n",
       "0  cheezo/light cheezo aqua green   2.19  \n",
       "1                      aqua green   1.41  \n",
       "2             aqua green milk tea   2.03  \n",
       "3            king fone cheese tea   2.81  \n",
       "4                       king fone   2.03  "
      ]
     },
     "execution_count": 207,
     "metadata": {},
     "output_type": "execute_result"
    }
   ],
   "source": [
    "df = pd.read_csv(\"bubble-tea-df.csv\")\n",
    "df.head()"
   ]
  },
  {
   "cell_type": "markdown",
   "id": "5b67fdac",
   "metadata": {},
   "source": [
    "### Idea 1: price distribution by type of drinks"
   ]
  },
  {
   "cell_type": "code",
   "execution_count": 208,
   "id": "b0f1f646",
   "metadata": {},
   "outputs": [
    {
     "data": {
      "text/plain": [
       "milk tea      130\n",
       "fruit tea      84\n",
       "tea            80\n",
       "milk           46\n",
       "cheese tea     23\n",
       "coffee         18\n",
       "lemonade       16\n",
       "cocoa           9\n",
       "slush           9\n",
       "matcha          7\n",
       "yogurt          6\n",
       "water           4\n",
       "juice           2\n",
       "yakult          1\n",
       "soda            1\n",
       "Name: type, dtype: int64"
      ]
     },
     "execution_count": 208,
     "metadata": {},
     "output_type": "execute_result"
    }
   ],
   "source": [
    "df.type.value_counts()"
   ]
  },
  {
   "cell_type": "code",
   "execution_count": 209,
   "id": "ca0c90fa",
   "metadata": {},
   "outputs": [],
   "source": [
    "types = ['milk tea','fruit tea','tea','milk','cheese tea','coffee','lemonade']\n",
    "type_filter = df[df.type.isin(types)]"
   ]
  },
  {
   "cell_type": "code",
   "execution_count": 210,
   "id": "cd97627c",
   "metadata": {},
   "outputs": [
    {
     "data": {
      "text/plain": [
       "2.54"
      ]
     },
     "execution_count": 210,
     "metadata": {},
     "output_type": "execute_result"
    }
   ],
   "source": [
    "china = df[df.country=='China']\n",
    "china.price.median()"
   ]
  },
  {
   "cell_type": "code",
   "execution_count": 238,
   "id": "ad7e8ef9",
   "metadata": {},
   "outputs": [
    {
     "data": {
      "text/plain": [
       "count    144.000000\n",
       "mean       2.761597\n",
       "std        0.982459\n",
       "min        1.250000\n",
       "25%        2.090000\n",
       "50%        2.540000\n",
       "75%        3.440000\n",
       "max        5.160000\n",
       "Name: price, dtype: float64"
      ]
     },
     "execution_count": 238,
     "metadata": {},
     "output_type": "execute_result"
    }
   ],
   "source": [
    "china.price.describe()"
   ]
  },
  {
   "cell_type": "code",
   "execution_count": 211,
   "id": "33b3c3a6",
   "metadata": {},
   "outputs": [
    {
     "data": {
      "text/plain": [
       "5.859999999999999"
      ]
     },
     "execution_count": 211,
     "metadata": {},
     "output_type": "execute_result"
    }
   ],
   "source": [
    "us = df[df.country=='US']\n",
    "us.price.median()"
   ]
  },
  {
   "cell_type": "code",
   "execution_count": 239,
   "id": "9623acc5",
   "metadata": {},
   "outputs": [
    {
     "data": {
      "text/plain": [
       "count    292.000000\n",
       "mean       6.092295\n",
       "std        1.477765\n",
       "min        3.750000\n",
       "25%        5.000000\n",
       "50%        5.860000\n",
       "75%        7.155000\n",
       "max       10.000000\n",
       "Name: price, dtype: float64"
      ]
     },
     "execution_count": 239,
     "metadata": {},
     "output_type": "execute_result"
    }
   ],
   "source": [
    "us.price.describe()"
   ]
  },
  {
   "cell_type": "code",
   "execution_count": 240,
   "id": "2a6c259d",
   "metadata": {},
   "outputs": [
    {
     "data": {
      "image/png": "[encoded data removed]",
      "text/plain": [
       "<Figure size 640x480 with 1 Axes>"
      ]
     },
     "metadata": {
      "needs_background": "light"
     },
     "output_type": "display_data"
    },
    {
     "data": {
      "text/plain": [
       "<ggplot: (315068862)>"
      ]
     },
     "metadata": {},
     "output_type": "display_data"
    }
   ],
   "source": [
    "p = (ggplot(type_filter, aes(x='type', y='price'))          \n",
    "        + geom_point(aes(color='country'))\n",
    "        + geom_hline(yintercept=2.54,size=0.8,linetype=\"dashed\",color='#9C9298')\n",
    "        + geom_hline(yintercept=5.86,size=0.8,linetype=\"dashed\",color='#9C9298')\n",
    "        + labs(\n",
    "            title = \"I need to spend almost double to get my favorite drink in NYC\",\n",
    "            x = \"type of drink\",\n",
    "            y = \"price\",\n",
    "            color = 'Country'\n",
    "        )\n",
    "        + scale_color_manual(values=(\"#6B543F\",\"#CDB09C\"))\n",
    "        + theme_minimal()\n",
    "        + theme(\n",
    "            text = element_text(family='Arial',size=10),\n",
    "            axis_title = element_text(face='bold'),\n",
    "            axis_text = element_text(size=10),\n",
    "            plot_title = element_text(face='bold', size=13, ha='left', x=0.125, y=0.95),\n",
    "        )\n",
    "\n",
    ")   \n",
    "display(p)"
   ]
  },
  {
   "cell_type": "code",
   "execution_count": 241,
   "id": "2725d1de",
   "metadata": {},
   "outputs": [
    {
     "name": "stderr",
     "output_type": "stream",
     "text": [
      "/Users/angeline_jcq/.pyenv/versions/3.9.7/lib/python3.9/site-packages/plotnine/ggplot.py:719: PlotnineWarning: Saving 6.4 x 4.8 in image.\n",
      "/Users/angeline_jcq/.pyenv/versions/3.9.7/lib/python3.9/site-packages/plotnine/ggplot.py:722: PlotnineWarning: Filename: vis-1.png\n"
     ]
    }
   ],
   "source": [
    "p.save('vis-1.png',dpi=1000)"
   ]
  },
  {
   "cell_type": "markdown",
   "id": "25665737",
   "metadata": {},
   "source": [
    "### Idea 2: common base drink and topping"
   ]
  },
  {
   "cell_type": "code",
   "execution_count": 215,
   "id": "2e346057",
   "metadata": {},
   "outputs": [],
   "source": [
    "df['base-drink'] = df['base-drink'].str.replace(\"; \",\";\")"
   ]
  },
  {
   "cell_type": "code",
   "execution_count": 216,
   "id": "8715145c",
   "metadata": {},
   "outputs": [
    {
     "data": {
      "text/plain": [
       "['green tea',\n",
       " 'milk',\n",
       " 'oolong tea',\n",
       " 'black tea',\n",
       " 'coffee',\n",
       " 'oat milk',\n",
       " 'thai tea',\n",
       " 'matcha',\n",
       " 'cocoa',\n",
       " 'coconut milk',\n",
       " 'sea salt water',\n",
       " 'jasmine tea',\n",
       " 'yakult',\n",
       " 'lemonade',\n",
       " 'water',\n",
       " 'pu-er tea',\n",
       " 'jujube',\n",
       " 'wintermelon tea',\n",
       " 'vinegar',\n",
       " 'ginger',\n",
       " 'rose tea',\n",
       " 'soda',\n",
       " 'sparkling',\n",
       " 'earl grey',\n",
       " 'chai tea',\n",
       " 'yogurt',\n",
       " 'barley tea',\n",
       " 'soy milk']"
      ]
     },
     "execution_count": 216,
     "metadata": {},
     "output_type": "execute_result"
    }
   ],
   "source": [
    "base_drinks = list(df['base-drink'].dropna().str.split(\";\").explode().unique())\n",
    "base_drinks"
   ]
  },
  {
   "cell_type": "code",
   "execution_count": 217,
   "id": "a625eabd",
   "metadata": {},
   "outputs": [
    {
     "data": {
      "text/plain": [
       "[{False: 328, True: 101, 'drink': 'green tea'},\n",
       " {False: 227, True: 202, 'drink': 'milk'},\n",
       " {False: 370, True: 59, 'drink': 'oolong tea'},\n",
       " {False: 321, True: 108, 'drink': 'black tea'},\n",
       " {False: 409, True: 20, 'drink': 'coffee'},\n",
       " {False: 420, True: 9, 'drink': 'oat milk'},\n",
       " {False: 426, True: 3, 'drink': 'thai tea'},\n",
       " {False: 416, True: 13, 'drink': 'matcha'},\n",
       " {False: 416, True: 13, 'drink': 'cocoa'},\n",
       " {False: 422, True: 7, 'drink': 'coconut milk'},\n",
       " {False: 428, True: 1, 'drink': 'sea salt water'},\n",
       " {False: 416, True: 13, 'drink': 'jasmine tea'},\n",
       " {False: 422, True: 7, 'drink': 'yakult'},\n",
       " {False: 400, True: 29, 'drink': 'lemonade'},\n",
       " {False: 426, True: 3, 'drink': 'water'},\n",
       " {False: 422, True: 7, 'drink': 'pu-er tea'},\n",
       " {False: 425, True: 4, 'drink': 'jujube'},\n",
       " {False: 419, True: 10, 'drink': 'wintermelon tea'},\n",
       " {False: 425, True: 4, 'drink': 'vinegar'},\n",
       " {False: 416, True: 13, 'drink': 'ginger'},\n",
       " {False: 428, True: 1, 'drink': 'rose tea'},\n",
       " {False: 428, True: 1, 'drink': 'soda'},\n",
       " {False: 428, True: 1, 'drink': 'sparkling'},\n",
       " {False: 422, True: 7, 'drink': 'earl grey'},\n",
       " {False: 428, True: 1, 'drink': 'chai tea'},\n",
       " {False: 420, True: 9, 'drink': 'yogurt'},\n",
       " {False: 425, True: 4, 'drink': 'barley tea'},\n",
       " {False: 421, True: 8, 'drink': 'soy milk'}]"
      ]
     },
     "execution_count": 217,
     "metadata": {},
     "output_type": "execute_result"
    }
   ],
   "source": [
    "counts = []\n",
    "for base_drink in base_drinks:\n",
    "    bd = df['base-drink'].str.contains(base_drink).value_counts().to_dict()\n",
    "    bd['drink'] = base_drink\n",
    "    counts.append(bd)\n",
    "counts"
   ]
  },
  {
   "cell_type": "code",
   "execution_count": 218,
   "id": "18dc273e",
   "metadata": {},
   "outputs": [],
   "source": [
    "bs_final = []\n",
    "for count in counts:\n",
    "    each_drink={}\n",
    "    each_drink['d_name'] = count['drink']\n",
    "    each_drink['d_count'] = count[True]\n",
    "    bs_final.append(each_drink)\n",
    "bs_df = pd.DataFrame(bs_final) "
   ]
  },
  {
   "cell_type": "code",
   "execution_count": 219,
   "id": "28a00bb1",
   "metadata": {},
   "outputs": [
    {
     "data": {
      "text/html": [
       "<div>\n",
       "<style scoped>\n",
       "    .dataframe tbody tr th:only-of-type {\n",
       "        vertical-align: middle;\n",
       "    }\n",
       "\n",
       "    .dataframe tbody tr th {\n",
       "        vertical-align: top;\n",
       "    }\n",
       "\n",
       "    .dataframe thead th {\n",
       "        text-align: right;\n",
       "    }\n",
       "</style>\n",
       "<table border=\"1\" class=\"dataframe\">\n",
       "  <thead>\n",
       "    <tr style=\"text-align: right;\">\n",
       "      <th></th>\n",
       "      <th>d_name</th>\n",
       "      <th>d_count</th>\n",
       "    </tr>\n",
       "  </thead>\n",
       "  <tbody>\n",
       "    <tr>\n",
       "      <th>0</th>\n",
       "      <td>green tea</td>\n",
       "      <td>101</td>\n",
       "    </tr>\n",
       "    <tr>\n",
       "      <th>1</th>\n",
       "      <td>milk</td>\n",
       "      <td>202</td>\n",
       "    </tr>\n",
       "    <tr>\n",
       "      <th>2</th>\n",
       "      <td>oolong tea</td>\n",
       "      <td>59</td>\n",
       "    </tr>\n",
       "    <tr>\n",
       "      <th>3</th>\n",
       "      <td>black tea</td>\n",
       "      <td>108</td>\n",
       "    </tr>\n",
       "    <tr>\n",
       "      <th>4</th>\n",
       "      <td>coffee</td>\n",
       "      <td>20</td>\n",
       "    </tr>\n",
       "    <tr>\n",
       "      <th>5</th>\n",
       "      <td>oat milk</td>\n",
       "      <td>9</td>\n",
       "    </tr>\n",
       "    <tr>\n",
       "      <th>6</th>\n",
       "      <td>thai tea</td>\n",
       "      <td>3</td>\n",
       "    </tr>\n",
       "    <tr>\n",
       "      <th>7</th>\n",
       "      <td>matcha</td>\n",
       "      <td>13</td>\n",
       "    </tr>\n",
       "    <tr>\n",
       "      <th>8</th>\n",
       "      <td>cocoa</td>\n",
       "      <td>13</td>\n",
       "    </tr>\n",
       "    <tr>\n",
       "      <th>9</th>\n",
       "      <td>coconut milk</td>\n",
       "      <td>7</td>\n",
       "    </tr>\n",
       "    <tr>\n",
       "      <th>10</th>\n",
       "      <td>sea salt water</td>\n",
       "      <td>1</td>\n",
       "    </tr>\n",
       "    <tr>\n",
       "      <th>11</th>\n",
       "      <td>jasmine tea</td>\n",
       "      <td>13</td>\n",
       "    </tr>\n",
       "    <tr>\n",
       "      <th>12</th>\n",
       "      <td>yakult</td>\n",
       "      <td>7</td>\n",
       "    </tr>\n",
       "    <tr>\n",
       "      <th>13</th>\n",
       "      <td>lemonade</td>\n",
       "      <td>29</td>\n",
       "    </tr>\n",
       "    <tr>\n",
       "      <th>14</th>\n",
       "      <td>water</td>\n",
       "      <td>3</td>\n",
       "    </tr>\n",
       "    <tr>\n",
       "      <th>15</th>\n",
       "      <td>pu-er tea</td>\n",
       "      <td>7</td>\n",
       "    </tr>\n",
       "    <tr>\n",
       "      <th>16</th>\n",
       "      <td>jujube</td>\n",
       "      <td>4</td>\n",
       "    </tr>\n",
       "    <tr>\n",
       "      <th>17</th>\n",
       "      <td>wintermelon tea</td>\n",
       "      <td>10</td>\n",
       "    </tr>\n",
       "    <tr>\n",
       "      <th>18</th>\n",
       "      <td>vinegar</td>\n",
       "      <td>4</td>\n",
       "    </tr>\n",
       "    <tr>\n",
       "      <th>19</th>\n",
       "      <td>ginger</td>\n",
       "      <td>13</td>\n",
       "    </tr>\n",
       "    <tr>\n",
       "      <th>20</th>\n",
       "      <td>rose tea</td>\n",
       "      <td>1</td>\n",
       "    </tr>\n",
       "    <tr>\n",
       "      <th>21</th>\n",
       "      <td>soda</td>\n",
       "      <td>1</td>\n",
       "    </tr>\n",
       "    <tr>\n",
       "      <th>22</th>\n",
       "      <td>sparkling</td>\n",
       "      <td>1</td>\n",
       "    </tr>\n",
       "    <tr>\n",
       "      <th>23</th>\n",
       "      <td>earl grey</td>\n",
       "      <td>7</td>\n",
       "    </tr>\n",
       "    <tr>\n",
       "      <th>24</th>\n",
       "      <td>chai tea</td>\n",
       "      <td>1</td>\n",
       "    </tr>\n",
       "    <tr>\n",
       "      <th>25</th>\n",
       "      <td>yogurt</td>\n",
       "      <td>9</td>\n",
       "    </tr>\n",
       "    <tr>\n",
       "      <th>26</th>\n",
       "      <td>barley tea</td>\n",
       "      <td>4</td>\n",
       "    </tr>\n",
       "    <tr>\n",
       "      <th>27</th>\n",
       "      <td>soy milk</td>\n",
       "      <td>8</td>\n",
       "    </tr>\n",
       "  </tbody>\n",
       "</table>\n",
       "</div>"
      ],
      "text/plain": [
       "             d_name  d_count\n",
       "0         green tea      101\n",
       "1              milk      202\n",
       "2        oolong tea       59\n",
       "3         black tea      108\n",
       "4            coffee       20\n",
       "5          oat milk        9\n",
       "6          thai tea        3\n",
       "7            matcha       13\n",
       "8             cocoa       13\n",
       "9      coconut milk        7\n",
       "10   sea salt water        1\n",
       "11      jasmine tea       13\n",
       "12           yakult        7\n",
       "13         lemonade       29\n",
       "14            water        3\n",
       "15        pu-er tea        7\n",
       "16           jujube        4\n",
       "17  wintermelon tea       10\n",
       "18          vinegar        4\n",
       "19           ginger       13\n",
       "20         rose tea        1\n",
       "21             soda        1\n",
       "22        sparkling        1\n",
       "23        earl grey        7\n",
       "24         chai tea        1\n",
       "25           yogurt        9\n",
       "26       barley tea        4\n",
       "27         soy milk        8"
      ]
     },
     "execution_count": 219,
     "metadata": {},
     "output_type": "execute_result"
    }
   ],
   "source": [
    "bs_df"
   ]
  },
  {
   "cell_type": "code",
   "execution_count": 220,
   "id": "cddee5b3",
   "metadata": {},
   "outputs": [],
   "source": [
    "df['topping'] = df['topping'].str.replace(\"; \",\";\")\n",
    "df['topping'] = df['topping'].str.replace('milk foam','cheese foam')\n",
    "toppings = list(df['topping'].dropna().str.split(\";\").explode().unique())\n",
    "df['fruit'] = df['fruit'].str.replace(\"; \",\";\")\n",
    "fruits = list(df['fruit'].dropna().str.split(\";\").explode().unique())"
   ]
  },
  {
   "cell_type": "code",
   "execution_count": 221,
   "id": "ca03452a",
   "metadata": {},
   "outputs": [],
   "source": [
    "topping_counts = []\n",
    "for topping in toppings:\n",
    "    bd = df['topping'].str.contains(topping).value_counts().to_dict()\n",
    "    bd['topping'] = topping\n",
    "    topping_counts.append(bd)\n",
    "fruit_counts = []\n",
    "for fruit in fruits:\n",
    "    bd = df['fruit'].str.contains(fruit).value_counts().to_dict()\n",
    "    bd['fruit'] = fruit\n",
    "    fruit_counts.append(bd)"
   ]
  },
  {
   "cell_type": "code",
   "execution_count": 222,
   "id": "158205ce",
   "metadata": {},
   "outputs": [
    {
     "data": {
      "text/html": [
       "<div>\n",
       "<style scoped>\n",
       "    .dataframe tbody tr th:only-of-type {\n",
       "        vertical-align: middle;\n",
       "    }\n",
       "\n",
       "    .dataframe tbody tr th {\n",
       "        vertical-align: top;\n",
       "    }\n",
       "\n",
       "    .dataframe thead th {\n",
       "        text-align: right;\n",
       "    }\n",
       "</style>\n",
       "<table border=\"1\" class=\"dataframe\">\n",
       "  <thead>\n",
       "    <tr style=\"text-align: right;\">\n",
       "      <th></th>\n",
       "      <th>t_name</th>\n",
       "      <th>t_count</th>\n",
       "    </tr>\n",
       "  </thead>\n",
       "  <tbody>\n",
       "    <tr>\n",
       "      <th>0</th>\n",
       "      <td>cheese foam</td>\n",
       "      <td>36</td>\n",
       "    </tr>\n",
       "    <tr>\n",
       "      <th>1</th>\n",
       "      <td>vanilla syrup</td>\n",
       "      <td>1</td>\n",
       "    </tr>\n",
       "    <tr>\n",
       "      <th>2</th>\n",
       "      <td>boba</td>\n",
       "      <td>29</td>\n",
       "    </tr>\n",
       "    <tr>\n",
       "      <th>3</th>\n",
       "      <td>taro</td>\n",
       "      <td>19</td>\n",
       "    </tr>\n",
       "    <tr>\n",
       "      <th>4</th>\n",
       "      <td>purple rice</td>\n",
       "      <td>2</td>\n",
       "    </tr>\n",
       "  </tbody>\n",
       "</table>\n",
       "</div>"
      ],
      "text/plain": [
       "          t_name  t_count\n",
       "0    cheese foam       36\n",
       "1  vanilla syrup        1\n",
       "2           boba       29\n",
       "3           taro       19\n",
       "4    purple rice        2"
      ]
     },
     "execution_count": 222,
     "metadata": {},
     "output_type": "execute_result"
    }
   ],
   "source": [
    "t_final = []\n",
    "for count in topping_counts:\n",
    "    each_drink={}\n",
    "    each_drink['t_name'] = count['topping']\n",
    "    each_drink['t_count'] = count[True]\n",
    "    t_final.append(each_drink)\n",
    "t_df = pd.DataFrame(t_final) \n",
    "t_df.head()"
   ]
  },
  {
   "cell_type": "code",
   "execution_count": 223,
   "id": "a4e72316",
   "metadata": {},
   "outputs": [
    {
     "data": {
      "text/html": [
       "<div>\n",
       "<style scoped>\n",
       "    .dataframe tbody tr th:only-of-type {\n",
       "        vertical-align: middle;\n",
       "    }\n",
       "\n",
       "    .dataframe tbody tr th {\n",
       "        vertical-align: top;\n",
       "    }\n",
       "\n",
       "    .dataframe thead th {\n",
       "        text-align: right;\n",
       "    }\n",
       "</style>\n",
       "<table border=\"1\" class=\"dataframe\">\n",
       "  <thead>\n",
       "    <tr style=\"text-align: right;\">\n",
       "      <th></th>\n",
       "      <th>f_name</th>\n",
       "      <th>f_count</th>\n",
       "    </tr>\n",
       "  </thead>\n",
       "  <tbody>\n",
       "    <tr>\n",
       "      <th>0</th>\n",
       "      <td>lemon</td>\n",
       "      <td>20</td>\n",
       "    </tr>\n",
       "    <tr>\n",
       "      <th>1</th>\n",
       "      <td>grapefruit</td>\n",
       "      <td>12</td>\n",
       "    </tr>\n",
       "    <tr>\n",
       "      <th>2</th>\n",
       "      <td>grape</td>\n",
       "      <td>19</td>\n",
       "    </tr>\n",
       "    <tr>\n",
       "      <th>3</th>\n",
       "      <td>strawberry</td>\n",
       "      <td>22</td>\n",
       "    </tr>\n",
       "    <tr>\n",
       "      <th>4</th>\n",
       "      <td>berry</td>\n",
       "      <td>26</td>\n",
       "    </tr>\n",
       "  </tbody>\n",
       "</table>\n",
       "</div>"
      ],
      "text/plain": [
       "       f_name  f_count\n",
       "0       lemon       20\n",
       "1  grapefruit       12\n",
       "2       grape       19\n",
       "3  strawberry       22\n",
       "4       berry       26"
      ]
     },
     "execution_count": 223,
     "metadata": {},
     "output_type": "execute_result"
    }
   ],
   "source": [
    "f_final = []\n",
    "for count in fruit_counts:\n",
    "    each_drink={}\n",
    "    each_drink['f_name'] = count['fruit']\n",
    "    each_drink['f_count'] = count[True]\n",
    "    f_final.append(each_drink)\n",
    "f_df = pd.DataFrame(f_final) \n",
    "f_df.head()"
   ]
  },
  {
   "cell_type": "code",
   "execution_count": 242,
   "id": "a80aff08",
   "metadata": {},
   "outputs": [
    {
     "data": {
      "image/png": "[encoded data removed]",
      "text/plain": [
       "<Figure size 640x480 with 1 Axes>"
      ]
     },
     "metadata": {
      "needs_background": "light"
     },
     "output_type": "display_data"
    },
    {
     "data": {
      "text/plain": [
       "<ggplot: (318782121)>"
      ]
     },
     "metadata": {},
     "output_type": "display_data"
    }
   ],
   "source": [
    "p1 = (\n",
    "    ggplot(bs_df)\n",
    "    + aes(x='reorder(d_name, d_count)', y='d_count')\n",
    "    + geom_bar(stat='identity',fill='#CDB09C')\n",
    "    + labs(\n",
    "            title = \"It can't be wrong to order a black/green/oolong milk tea in any milk tea shop\",\n",
    "            x = \"count\",\n",
    "            y = \"type of base drink\"\n",
    "        )\n",
    "    + coord_flip()\n",
    "    + theme_minimal()\n",
    "    + theme(\n",
    "            text = element_text(family='Arial',size=10),\n",
    "            axis_title = element_text(face='bold'),\n",
    "            axis_text = element_text(size=10),\n",
    "            plot_title = element_text(face='bold', size=13),\n",
    "        )\n",
    "\n",
    ")\n",
    "display(p1)"
   ]
  },
  {
   "cell_type": "code",
   "execution_count": 243,
   "id": "b84ea8a4",
   "metadata": {},
   "outputs": [
    {
     "name": "stderr",
     "output_type": "stream",
     "text": [
      "/Users/angeline_jcq/.pyenv/versions/3.9.7/lib/python3.9/site-packages/plotnine/ggplot.py:719: PlotnineWarning: Saving 6.4 x 4.8 in image.\n",
      "/Users/angeline_jcq/.pyenv/versions/3.9.7/lib/python3.9/site-packages/plotnine/ggplot.py:722: PlotnineWarning: Filename: vis-2.png\n"
     ]
    }
   ],
   "source": [
    "p1.save('vis-2.png',dpi=1000)"
   ]
  },
  {
   "cell_type": "code",
   "execution_count": 244,
   "id": "e73dcf81",
   "metadata": {},
   "outputs": [
    {
     "name": "stderr",
     "output_type": "stream",
     "text": [
      "/Users/angeline_jcq/.pyenv/versions/3.9.7/lib/python3.9/site-packages/plotnine/guides/guides.py:197: PlotnineWarning: Cannot generate legend for the 'color' aesthetic. Make sure you have mapped a variable to it\n"
     ]
    },
    {
     "data": {
      "image/png": "[encoded data removed]",
      "text/plain": [
       "<Figure size 640x480 with 1 Axes>"
      ]
     },
     "metadata": {
      "needs_background": "light"
     },
     "output_type": "display_data"
    },
    {
     "data": {
      "text/plain": [
       "<ggplot: (319104636)>"
      ]
     },
     "metadata": {},
     "output_type": "display_data"
    }
   ],
   "source": [
    "p2 = (\n",
    "    ggplot(t_df)\n",
    "    + aes(x='reorder(t_name, t_count)', y='t_count')\n",
    "    + geom_bar(stat='identity',fill='#6B543F',width=0.8)\n",
    "    + labs(\n",
    "            title = \"Want some toppings? Try cheese foam, boba and brown sugar!\",\n",
    "            x = \"count\",\n",
    "            y = \"type of topping\"\n",
    "        )\n",
    "    + scale_color_manual(values=\"#CDB09C\")\n",
    "    + coord_flip()\n",
    "    + theme_minimal()\n",
    "    + theme(\n",
    "            text = element_text(family='Arial',size=10),\n",
    "            axis_title = element_text(face='bold'),\n",
    "            axis_text = element_text(size=10),\n",
    "            plot_title = element_text(face='bold', size=13),\n",
    "        )\n",
    "\n",
    ")\n",
    "display(p2)"
   ]
  },
  {
   "cell_type": "code",
   "execution_count": 245,
   "id": "0fa9c9d9",
   "metadata": {},
   "outputs": [
    {
     "name": "stderr",
     "output_type": "stream",
     "text": [
      "/Users/angeline_jcq/.pyenv/versions/3.9.7/lib/python3.9/site-packages/plotnine/ggplot.py:719: PlotnineWarning: Saving 6.4 x 4.8 in image.\n",
      "/Users/angeline_jcq/.pyenv/versions/3.9.7/lib/python3.9/site-packages/plotnine/ggplot.py:722: PlotnineWarning: Filename: vis-3.png\n",
      "/Users/angeline_jcq/.pyenv/versions/3.9.7/lib/python3.9/site-packages/plotnine/guides/guides.py:197: PlotnineWarning: Cannot generate legend for the 'color' aesthetic. Make sure you have mapped a variable to it\n"
     ]
    }
   ],
   "source": [
    "p2.save('vis-3.png',dpi=1000)"
   ]
  },
  {
   "cell_type": "code",
   "execution_count": 246,
   "id": "a92e2385",
   "metadata": {},
   "outputs": [
    {
     "name": "stderr",
     "output_type": "stream",
     "text": [
      "/Users/angeline_jcq/.pyenv/versions/3.9.7/lib/python3.9/site-packages/plotnine/guides/guides.py:197: PlotnineWarning: Cannot generate legend for the 'color' aesthetic. Make sure you have mapped a variable to it\n"
     ]
    },
    {
     "data": {
      "image/png": "[encoded data removed]",
      "text/plain": [
       "<Figure size 640x480 with 1 Axes>"
      ]
     },
     "metadata": {
      "needs_background": "light"
     },
     "output_type": "display_data"
    },
    {
     "data": {
      "text/plain": [
       "<ggplot: (318068164)>"
      ]
     },
     "metadata": {},
     "output_type": "display_data"
    }
   ],
   "source": [
    "without_berry = f_df[~f_df.f_name.isin([\"berry\"])]\n",
    "p3 = (\n",
    "    ggplot(without_berry)\n",
    "    + aes(x='reorder(f_name, f_count)', y='f_count')\n",
    "    + geom_bar(stat='identity',fill='#CDB09C',width=0.8)\n",
    "    + labs(\n",
    "            title = \"Milk tea shops love to add strawberry flavor in the drinks\",\n",
    "            x = \"count\",\n",
    "            y = \"type of fruit\"\n",
    "        )\n",
    "    + scale_color_manual(values=\"#CDB09C\")\n",
    "    + coord_flip()\n",
    "    + theme_minimal()\n",
    "    + theme(\n",
    "            text = element_text(family='Arial',size=10),\n",
    "            axis_title = element_text(face='bold'),\n",
    "            axis_text = element_text(size=10),\n",
    "            plot_title = element_text(face='bold', size=13),\n",
    "        )\n",
    "\n",
    ")\n",
    "display(p3)"
   ]
  },
  {
   "cell_type": "code",
   "execution_count": 247,
   "id": "21526aef",
   "metadata": {},
   "outputs": [
    {
     "name": "stderr",
     "output_type": "stream",
     "text": [
      "/Users/angeline_jcq/.pyenv/versions/3.9.7/lib/python3.9/site-packages/plotnine/ggplot.py:719: PlotnineWarning: Saving 6.4 x 4.8 in image.\n",
      "/Users/angeline_jcq/.pyenv/versions/3.9.7/lib/python3.9/site-packages/plotnine/ggplot.py:722: PlotnineWarning: Filename: vis-4.png\n",
      "/Users/angeline_jcq/.pyenv/versions/3.9.7/lib/python3.9/site-packages/plotnine/guides/guides.py:197: PlotnineWarning: Cannot generate legend for the 'color' aesthetic. Make sure you have mapped a variable to it\n"
     ]
    }
   ],
   "source": [
    "p3.save('vis-4.png',dpi=1000)"
   ]
  }
 ],
 "metadata": {
  "kernelspec": {
   "display_name": "Python 3 (ipykernel)",
   "language": "python",
   "name": "python3"
  },
  "language_info": {
   "codemirror_mode": {
    "name": "ipython",
    "version": 3
   },
   "file_extension": ".py",
   "mimetype": "text/x-python",
   "name": "python",
   "nbconvert_exporter": "python",
   "pygments_lexer": "ipython3",
   "version": "3.9.7"
  }
 },
 "nbformat": 4,
 "nbformat_minor": 5
}
